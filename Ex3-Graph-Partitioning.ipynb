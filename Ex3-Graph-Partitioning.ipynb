{
 "cells": [
  {
   "cell_type": "code",
   "execution_count": null,
   "id": "ca5b9aeb",
   "metadata": {},
   "outputs": [],
   "source": [
    "import gwb as gwb\n",
    "from gwb import GM as gm\n",
    "\n",
    "import matplotlib.pyplot as plt\n",
    "import numpy as np\n",
    "import ot\n",
    "import networkx as nx\n",
    "\n",
    "from networkx.algorithms.community.asyn_fluid import asyn_fluidc\n",
    "from networkx.algorithms.community import greedy_modularity_communities\n",
    "from sklearn.cluster import SpectralClustering\n",
    "from sklearn.metrics import adjusted_mutual_info_score"
   ]
  },
  {
   "cell_type": "code",
   "execution_count": null,
   "id": "5d5dfdcc",
   "metadata": {},
   "outputs": [],
   "source": [
    "#n_trials = 10\n",
    "n_partitions = 2\n",
    "partition_size = 50\n",
    "num_nodes = n_partitions*partition_size\n",
    "p_in = 0.4\n",
    "p_out = 0.1\n",
    "n_its_tb = 3\n",
    "i_init_tb = 0\n",
    "N = 10 #number of graphs\n",
    "\n",
    "#create graphs\n",
    "Gs = []\n",
    "GTs = []\n",
    "for i in range(N):\n",
    "    G = nx.random_partition_graph(n_partitions*[partition_size],\n",
    "                                               p_in=p_in, p_out=p_out, directed=False,seed=10*i)\n",
    "    Gs.append(G)\n",
    "    gt = []\n",
    "    for i in range(num_nodes):\n",
    "        gt.append(G.nodes[i][\"block\"])\n",
    "    GTs.append(np.array(gt))\n",
    "print(\"Graphs generated!\")\n",
    "\n",
    "#create gm-spaces\n",
    "Xs = []\n",
    "for i in range(N):\n",
    "    Edges = np.array(Gs[i].edges)\n",
    "    Nodes = np.array(Gs[i].nodes)\n",
    "    Xs.append(gm(mode=\"graph\",gauge_mode=\"adjacency\",Nodes=Nodes,Edges=Edges))\n",
    "print(\"GM spaces generated!\")"
   ]
  },
  {
   "cell_type": "code",
   "execution_count": null,
   "id": "aa39e9a3",
   "metadata": {},
   "outputs": [],
   "source": [
    "#TB iterations and spectral clustering\n",
    "bary = Xs[i_init_tb]\n",
    "AMIs_per_TB_it = []\n",
    "for i in range(n_its_tb):\n",
    "    bary_prev = bary\n",
    "    bary,log = gwb.TB(bary_prev,Xs,ws = ot.unif(N),mode=\"avg_gauge_only\",log=True)\n",
    "    idxs, meas, Ps = log.values()\n",
    "    #bary = sample_GM(bary,n=500)\n",
    "\n",
    "    #spectral clustering on barycenter    \n",
    "    sc = SpectralClustering(2, affinity='precomputed',n_init=100, assign_labels='discretize')\n",
    "    predict_bary_prev = sc.fit_predict(bary_prev.g) \n",
    "    #print(predict_bary_prev)\n",
    "    \n",
    "    AMIs = []\n",
    "    for k in range(N):\n",
    "        ami = adjusted_mutual_info_score(GTs[k],np.array(np.round(predict_bary_prev.dot(Ps[k]/Xs[k].xi),0),dtype=int))\n",
    "        AMIs.append(ami)\n",
    "    AMIs_per_TB_it.append(np.array(AMIs))\n",
    "print(\"TB iterations and clustering completed!\")"
   ]
  },
  {
   "cell_type": "code",
   "execution_count": null,
   "id": "8f519c2a",
   "metadata": {},
   "outputs": [],
   "source": [
    "plt.imshow(Xs[0].g)"
   ]
  },
  {
   "cell_type": "code",
   "execution_count": null,
   "id": "055edddf",
   "metadata": {},
   "outputs": [],
   "source": [
    "plt.imshow(bary_prev.g)"
   ]
  },
  {
   "cell_type": "code",
   "execution_count": null,
   "id": "e2d5d6a1",
   "metadata": {},
   "outputs": [],
   "source": [
    "print(np.array(np.mean(AMIs_per_TB_it,axis=1)))\n",
    "#print(np.mean(AMIs_GMC))\n",
    "#print(np.mean(AMIs_AF))"
   ]
  }
 ],
 "metadata": {
  "kernelspec": {
   "display_name": "Python 3 (ipykernel)",
   "language": "python",
   "name": "python3"
  },
  "language_info": {
   "codemirror_mode": {
    "name": "ipython",
    "version": 3
   },
   "file_extension": ".py",
   "mimetype": "text/x-python",
   "name": "python",
   "nbconvert_exporter": "python",
   "pygments_lexer": "ipython3",
   "version": "3.8.8"
  }
 },
 "nbformat": 4,
 "nbformat_minor": 5
}
