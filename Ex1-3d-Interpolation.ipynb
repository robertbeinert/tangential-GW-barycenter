{
 "cells": [
  {
   "cell_type": "code",
   "execution_count": 1,
   "id": "6f8df294",
   "metadata": {},
   "outputs": [],
   "source": [
    "import numpy as np\n",
    "import ot\n",
    "import gwb as gwb\n",
    "import lgw\n",
    "from gwb import GM as gm\n",
    "from sklearn.decomposition import PCA\n",
    "import trimesh\n",
    "from tqdm import trange\n",
    "import matplotlib.cm as cm\n",
    "import os\n",
    "\n",
    "import open3d as o3d"
   ]
  },
  {
   "cell_type": "markdown",
   "id": "891d1475",
   "metadata": {},
   "source": [
    "# Load FAUST and DF DATA"
   ]
  },
  {
   "cell_type": "code",
   "execution_count": 2,
   "id": "c920166a",
   "metadata": {},
   "outputs": [],
   "source": [
    "def make_o3dmesh_from_node_tri_col(X,tri,col):\n",
    "    mesh = o3d.geometry.TriangleMesh()\n",
    "    mesh.vertices = o3d.utility.Vector3dVector(X)\n",
    "    mesh.triangles = o3d.utility.Vector3iVector(tri)\n",
    "    mesh.vertex_colors = o3d.utility.Vector3dVector(col)\n",
    "    return mesh"
   ]
  },
  {
   "cell_type": "code",
   "execution_count": 3,
   "id": "8c22983b",
   "metadata": {},
   "outputs": [],
   "source": [
    "sqd = 12000"
   ]
  },
  {
   "cell_type": "code",
   "execution_count": 4,
   "id": "56091818",
   "metadata": {},
   "outputs": [],
   "source": [
    "#filepath to the FAUST registration meshes\n",
    "filepath_FAUST = \"../data/MPI-FAUST/training/registrations/\"\n",
    "\n",
    "#filepath to the Mesh Deformation Dataset meshes\n",
    "filepath_DF = \"../data/DEFORM/\""
   ]
  },
  {
   "cell_type": "code",
   "execution_count": 5,
   "id": "046fae56",
   "metadata": {},
   "outputs": [],
   "source": [
    "#LOAD FAUST\n",
    "Nodes_FAUST = []\n",
    "Tris_FAUST = []\n",
    "for i in range(100):\n",
    "    filepath = filepath_FAUST + \"tr_reg_{0}.ply\".format(str(\"{:03d}\".format(i)))\n",
    "    pcd = o3d.io.read_triangle_mesh(filepath)\n",
    "    mesh = trimesh.Trimesh(vertices=pcd.vertices,faces = pcd.triangles)\n",
    "    Nodes_FAUST.append(np.array(mesh.vertices))\n",
    "    Tris_FAUST.append(np.array(mesh.faces))\n",
    "\n",
    "Nodes_FAUST = np.array(Nodes_FAUST)\n",
    "Tris_FAUST = np.array(Tris_FAUST)"
   ]
  },
  {
   "cell_type": "code",
   "execution_count": 6,
   "id": "590f8eb9",
   "metadata": {},
   "outputs": [],
   "source": [
    "#LOAD DEFORM\n",
    "class_names_DF = [\"camel\",\"cat\",\"elephant\",\"face\",\"head\",\"horse\",\"lion\"]\n",
    "lengths_DF = [11,10,11,10,10,11,10]\n",
    "lengths_by_class_DF = dict(zip(class_names_DF,[+ np.arange(lengths_DF[i]) for i in range(len(lengths_DF))]))\n",
    "idxs_by_class_DF = dict(zip(class_names_DF,[int(np.sum(lengths_DF[:i])) + np.arange(lengths_DF[i]) for i in range(len(lengths_DF))]))\n",
    "\n",
    "#LOAD DEFORM\n",
    "Nodes_DF = []\n",
    "Tris_DF = []\n",
    "for class_name in class_names_DF:\n",
    "    for i in lengths_by_class_DF[class_name]:\n",
    "        filepath = filepath_DF + \"{0}-poses/{0}-{1}.obj\".format(class_name,str(i).zfill(2))\n",
    "        pcd = o3d.io.read_triangle_mesh(filepath)\n",
    "        mesh = trimesh.Trimesh(vertices=pcd.vertices,faces = pcd.triangles)\n",
    "        mesh = mesh.simplify_quadratic_decimation(sqd)\n",
    "        \n",
    "        Nodes_DF.append(np.array(mesh.vertices))\n",
    "        Tris_DF.append(np.array(mesh.faces))"
   ]
  },
  {
   "cell_type": "markdown",
   "id": "11105c8b",
   "metadata": {},
   "source": [
    "# Create Directoy for Output Meshes"
   ]
  },
  {
   "cell_type": "code",
   "execution_count": 7,
   "id": "49403269",
   "metadata": {},
   "outputs": [],
   "source": [
    "if not os.path.exists(\"./3d\"):\n",
    "    os.mkdir(\"./3d\")"
   ]
  },
  {
   "cell_type": "markdown",
   "id": "87182259",
   "metadata": {},
   "source": [
    "# 3D 2-Interpolations between FAUST subjects"
   ]
  },
  {
   "cell_type": "code",
   "execution_count": 8,
   "id": "c41b7196",
   "metadata": {},
   "outputs": [
    {
     "name": "stdout",
     "output_type": "stream",
     "text": [
      "----------------\n",
      "FAUST 27  <-> 29\n",
      "----------------\n",
      "GM spaces generated!\n",
      "Diam X: 1.8200711879204465\n",
      "Diam Y: 2.0612168142413303\n",
      "Barycenter computed!\n",
      "gw_dist: 0.06573626096634741\n",
      "Surfaces constructed!\n",
      "Diameters of Barys: [1.8619977559553098, 1.903303924688805, 1.9438334247963707, 1.9835628802893566, 2.022762523799196]\n",
      "PCA Scores: [0.15336821478620918, 0.19938760850928358, 0.19735998501086469, 0.1740279213156925, 0.13008671856960966]\n",
      "Outputs saved!\n",
      "----------------\n",
      "FAUST 44  <-> 54\n",
      "----------------\n",
      "GM spaces generated!\n",
      "Diam X: 1.6176458713210502\n",
      "Diam Y: 1.6464366764613665\n",
      "Barycenter computed!\n",
      "gw_dist: 0.055318974712936134\n",
      "Surfaces constructed!\n",
      "Diameters of Barys: [1.6210192515512465, 1.6257134376175062, 1.6303941083678193, 1.6350613798725913, 1.6401958900504618]\n",
      "PCA Scores: [0.05642603527757578, 0.07232227896048742, 0.07690843165011564, 0.07213720817291962, 0.05656587686021616]\n",
      "Outputs saved!\n"
     ]
    }
   ],
   "source": [
    "idxs_FAUST = [[27,29],[44,54]]\n",
    "for i,j in idxs_FAUST:\n",
    "    print(\"----------------\")\n",
    "    print(\"FAUST {0}  <-> {1}\".format(i,j))\n",
    "    print(\"----------------\")\n",
    "    \n",
    "    X = gm(X=Nodes_FAUST[i],Tris=Tris_FAUST[i],mode=\"surface\",gauge_mode=\"djikstra\")\n",
    "    Y = gm(X=Nodes_FAUST[j],Tris=Tris_FAUST[j],mode=\"surface\",gauge_mode=\"djikstra\")\n",
    "    print(\"GM spaces generated!\")\n",
    "    \n",
    "    print(\"Diam X: {0}\".format(np.max(ot.dist(Nodes_FAUST[i],metric=\"euclidean\"))))\n",
    "    print(\"Diam Y: {0}\".format(np.max(ot.dist(Nodes_FAUST[j],metric=\"euclidean\"))))\n",
    "    \n",
    "    #One iteration of TB\n",
    "    idxs,meas,Ps,idxs_ref = gwb.tb(0,[X,Y],numItermaxEmd=500000)\n",
    "    print(\"Barycenter computed!\")\n",
    "    \n",
    "    print(\"gw_dist: {0}\".format(lgw.LGW_via_idxs([X,Y],idxs,meas)[1,0]))\n",
    "    \n",
    "    \n",
    "    #Create Embeddings etc\n",
    "    N_interpolation = 5\n",
    "    cX,cY,bary_embs,bary_embs_3d,bary_c,pca_scores = gwb.interpolate_two(X,Y,idxs,meas,Ps[1],N_interpolation)\n",
    "    bary_tris = gwb.generate_triangles_from_single(X,idxs,0)\n",
    "    print(\"Surfaces constructed!\")\n",
    "    \n",
    "    print(\"Diameters of Barys: {0}\".format([np.max(ot.dist(emb,metric=\"euclidean\")) for emb in bary_embs]))\n",
    "    print(\"PCA Scores: {0}\".format(pca_scores))\n",
    "\n",
    "    #save meshes\n",
    "    tmp = cX / np.max(cX)\n",
    "    col = cm.viridis(tmp)[:,:3]\n",
    "    mesh = make_o3dmesh_from_node_tri_col(X.X,X.Tris,col)\n",
    "    o3d.io.write_triangle_mesh(filename=\"./3d/FAUST_{0}_{1}_X.ply\".format(i,j),mesh=mesh)\n",
    "\n",
    "    tmp = cY / np.max(cY)\n",
    "    col = cm.viridis(tmp)[:,:3]\n",
    "    mesh = make_o3dmesh_from_node_tri_col(Y.X,Y.Tris,col)\n",
    "    o3d.io.write_triangle_mesh(filename=\"./3d/FAUST_{0}_{1}_Y.ply\".format(i,j),mesh=mesh)\n",
    "\n",
    "    for k in range(N_interpolation):\n",
    "        tmp = bary_c[k] / np.max(bary_c[k])\n",
    "        col = cm.viridis(tmp)[:,:3]\n",
    "        mesh = make_o3dmesh_from_node_tri_col(bary_embs_3d[k],bary_tris,col)\n",
    "        o3d.io.write_triangle_mesh(filename=\"./3d/FAUST_{0}_{1}_B_{2}.ply\".format(i,j,k),mesh=mesh)\n",
    "    print(\"Outputs saved!\")"
   ]
  },
  {
   "cell_type": "markdown",
   "id": "3460fadf",
   "metadata": {},
   "source": [
    "# 3D 2-Interpolations between DF animals"
   ]
  },
  {
   "cell_type": "code",
   "execution_count": 9,
   "id": "d9d1854a",
   "metadata": {},
   "outputs": [
    {
     "name": "stdout",
     "output_type": "stream",
     "text": [
      "----------------\n",
      "DF 72  <-> 71\n",
      "----------------\n",
      "GM spaces generated!\n",
      "Diam X: 0.6069540744631324\n",
      "Diam Y: 0.6258420332203521\n",
      "Barycenter computed!\n",
      "gw_dist: 0.029316152915260237\n",
      "Surfaces constructed!\n",
      "Diameters of Barys: [0.6099247708264421, 0.6130630961632622, 0.616185437743284, 0.6193334538001614, 0.6225488207045161]\n",
      "PCA Scores: [0.02491672135989406, 0.03433129741184591, 0.03820806851442808, 0.03676780728318005, 0.029155259421088438]\n",
      "Outputs saved!\n",
      "----------------\n",
      "DF 55  <-> 3\n",
      "----------------\n",
      "GM spaces generated!\n",
      "Diam X: 1.0991010854365595\n",
      "Diam Y: 1.1741971211637272\n",
      "Barycenter computed!\n",
      "gw_dist: 0.149645512523082\n",
      "Surfaces constructed!\n",
      "Diameters of Barys: [1.0722014468167407, 1.0930231388865677, 1.1135359738672272, 1.1339154637810602, 1.154221544999327]\n",
      "PCA Scores: [0.1099636618596759, 0.14692569271688327, 0.17608465045956762, 0.17915426041626475, 0.1420583454749126]\n",
      "Outputs saved!\n"
     ]
    }
   ],
   "source": [
    "idxs_DF = [[idxs_by_class_DF[\"lion\"][-1], idxs_by_class_DF[\"lion\"][-2]],\n",
    "            [idxs_by_class_DF[\"horse\"][3], idxs_by_class_DF[\"camel\"][3]],\n",
    "          ]\n",
    "for i,j in idxs_DF:\n",
    "    print(\"----------------\")\n",
    "    print(\"DF {0}  <-> {1}\".format(i,j))\n",
    "    print(\"----------------\")\n",
    "    X = gm(X=Nodes_DF[i],Tris=Tris_DF[i],mode=\"surface\",gauge_mode=\"djikstra\",squared=False)#,xi=\"surface_uniform\")\n",
    "    Y = gm(X=Nodes_DF[j],Tris=Tris_DF[j],mode=\"surface\",gauge_mode=\"djikstra\",squared=False)#,xi=\"surface_uniform\")\n",
    "    print(\"GM spaces generated!\")\n",
    "    \n",
    "    print(\"Diam X: {0}\".format(np.max(ot.dist(Nodes_DF[i],metric=\"euclidean\"))))\n",
    "    print(\"Diam Y: {0}\".format(np.max(ot.dist(Nodes_DF[j],metric=\"euclidean\"))))\n",
    "\n",
    "    #One iteration of TB\n",
    "    idxs,meas,Ps,idxs_ref = gwb.tb(0,[X,Y],numItermaxEmd=500000)\n",
    "    print(\"Barycenter computed!\")\n",
    "    \n",
    "    print(\"gw_dist: {0}\".format(lgw.LGW_via_idxs([X,Y],idxs,meas)[1,0]))\n",
    "    \n",
    "    #Create Embeddings etc\n",
    "    N_interpolation = 5\n",
    "    cX,cY,bary_embs,bary_embs_3d,bary_c,pca_scores = gwb.interpolate_two(X,Y,idxs,meas,Ps[1],N_interpolation)\n",
    "    bary_tris = gwb.generate_triangles_from_single(X,idxs,0)\n",
    "    print(\"Surfaces constructed!\")\n",
    "    \n",
    "    print(\"Diameters of Barys: {0}\".format([np.max(ot.dist(emb,metric=\"euclidean\")) for emb in bary_embs]))\n",
    "    print(\"PCA Scores: {0}\".format(pca_scores))\n",
    "\n",
    "    #save meshes\n",
    "    tmp = cX / np.max(cX)\n",
    "    col = cm.viridis(tmp)[:,:3]\n",
    "    mesh = make_o3dmesh_from_node_tri_col(X.X,X.Tris,col)\n",
    "    o3d.io.write_triangle_mesh(filename=\"./3d/DF_{0}_{1}_X.ply\".format(i,j),mesh=mesh)\n",
    "\n",
    "    tmp = cY / np.max(cY)\n",
    "    col = cm.viridis(tmp)[:,:3]\n",
    "    mesh = make_o3dmesh_from_node_tri_col(Y.X,Y.Tris,col)\n",
    "    o3d.io.write_triangle_mesh(filename=\"./3d/DF_{0}_{1}_Y.ply\".format(i,j),mesh=mesh)\n",
    "\n",
    "    for k in range(N_interpolation):\n",
    "        tmp = bary_c[k] / np.max(bary_c[k])\n",
    "        col = cm.viridis(tmp)[:,:3]\n",
    "        mesh = make_o3dmesh_from_node_tri_col(bary_embs_3d[k],bary_tris,col)\n",
    "        o3d.io.write_triangle_mesh(filename=\"./3d/DF_{0}_{1}_B_{2}.ply\".format(i,j,k),mesh=mesh)\n",
    "    print(\"Outputs saved!\")"
   ]
  },
  {
   "cell_type": "markdown",
   "id": "b04a0c93",
   "metadata": {},
   "source": [
    "# 3D Interpolation between 4 FAUST subjects"
   ]
  },
  {
   "cell_type": "code",
   "execution_count": 10,
   "id": "a5d1492c",
   "metadata": {},
   "outputs": [
    {
     "name": "stdout",
     "output_type": "stream",
     "text": [
      "GM spaces generated!\n"
     ]
    },
    {
     "name": "stderr",
     "output_type": "stream",
     "text": [
      "\r",
      "  0%|                                                     | 0/3 [00:00<?, ?it/s]"
     ]
    },
    {
     "name": "stdout",
     "output_type": "stream",
     "text": [
      "GWBL (prev): 0.005306184587758289\n"
     ]
    },
    {
     "name": "stderr",
     "output_type": "stream",
     "text": [
      "\r",
      " 33%|█████████████▋                           | 1/3 [38:01<1:16:02, 2281.37s/it]"
     ]
    },
    {
     "name": "stdout",
     "output_type": "stream",
     "text": [
      "PCA Score (center): 0.13536133104263748\n",
      "GWBL (prev): 0.0036027841539943337\n"
     ]
    },
    {
     "name": "stderr",
     "output_type": "stream",
     "text": [
      "\r",
      " 67%|████████████████████████████▋              | 2/3 [56:29<26:31, 1591.42s/it]"
     ]
    },
    {
     "name": "stdout",
     "output_type": "stream",
     "text": [
      "PCA Score (center): 0.1353376072687755\n",
      "GWBL (prev): 0.0036016137175827944\n"
     ]
    },
    {
     "name": "stderr",
     "output_type": "stream",
     "text": [
      "100%|█████████████████████████████████████████| 3/3 [1:11:24<00:00, 1428.21s/it]"
     ]
    },
    {
     "name": "stdout",
     "output_type": "stream",
     "text": [
      "PCA Score (center): 0.13533247875591822\n"
     ]
    },
    {
     "name": "stderr",
     "output_type": "stream",
     "text": [
      "\n"
     ]
    },
    {
     "name": "stdout",
     "output_type": "stream",
     "text": [
      "PCA Scores:\n",
      "[[2.38191330e-16 1.62182078e-01 1.49418228e-01 1.14732696e-01\n",
      "  7.09976039e-17]\n",
      " [1.18548619e-01 1.62398749e-01 1.46318415e-01 1.21552600e-01\n",
      "  6.96010236e-02]\n",
      " [1.39336948e-01 1.49823139e-01 1.35332479e-01 1.13733178e-01\n",
      "  6.99667413e-02]\n",
      " [1.21579814e-01 1.27410733e-01 1.16763681e-01 9.80612739e-02\n",
      "  5.46945640e-02]\n",
      " [1.07318217e-16 8.34299610e-02 8.29792334e-02 6.96381969e-02\n",
      "  1.09673368e-16]]\n",
      "Outputs saved!\n"
     ]
    }
   ],
   "source": [
    "#pick four human subjects\n",
    "idxs_input = [7,13,69,36]\n",
    "\n",
    "#generate mm spaces\n",
    "Xs = [gm(X=Nodes_FAUST[i],Tris=Tris_FAUST[i],mode=\"surface\",gauge_mode=\"djikstra\",squared=False) for i in idxs_input]\n",
    "print(\"GM spaces generated!\")\n",
    "\n",
    "#iterate tb\n",
    "n_its_tb = 3\n",
    "bary = 0\n",
    "for i in trange(n_its_tb):\n",
    "    if i == 0:\n",
    "        init_Ps = None\n",
    "    else:\n",
    "        init_Ps = gwb.create_backwards_initplans(Xs,ref_idx,idxs,meas)\n",
    "    bary_prev = bary\n",
    "    idxs, meas, Ps, ref_idx = gwb.tb(bary,Xs,numItermaxEmd=500000,init_Ps=init_Ps)\n",
    "    bary = gwb.bary_from_tb(Xs,idxs,meas)\n",
    "\n",
    "    gwbl_prev = gwb.gwb_loss(bary_prev,Xs,Ps)\n",
    "    print(\"GWBL (prev): {0}\".format(gwbl_prev))\n",
    "\n",
    "    #surface embedding of the central barycenter\n",
    "    cX = np.linalg.norm(Xs[0].X - Xs[0].X[np.argmin(np.linalg.norm(Xs[0].X,axis=1))],axis=1)\n",
    "    cXs = [(P.T / np.sum(P,axis=1)).dot(cX) for P in Ps]\n",
    "    bary_emb,bary_emb_3d,bary_tri,pca_s,bary_c = gwb.single_interpolate_four(Xs,idxs,meas,cXs,w=None)\n",
    "    print(\"PCA Score (center): {0}\".format(pca_s))\n",
    "\n",
    "    tmp = bary_c / np.max(bary_c)\n",
    "    col = cm.viridis(tmp)[:,:3]\n",
    "    mesh = make_o3dmesh_from_node_tri_col(bary_emb_3d,bary_tri,col)\n",
    "    o3d.io.write_triangle_mesh(filename=\"./3d/FAUST_four_7_13_69_36_center_per_it_{0}.ply\".format(i),mesh=mesh)\n",
    "\n",
    "#generate 3d embeddings\n",
    "n_grid = 5\n",
    "cXs,bary_embs,bary_embs_3d,bary_cs,bary_tris,pcas = gwb.interpolate_four(Xs,idxs,meas,Ps,n_grid = n_grid)\n",
    "\n",
    "print(\"PCA Scores:\")\n",
    "print(pcas)\n",
    "\n",
    "#save meshes\n",
    "for i in range(len(Xs)):\n",
    "    X = Xs[i]\n",
    "    cX = cXs[i]\n",
    "    tmp = cX / np.max(cX)\n",
    "    col = cm.viridis(tmp)[:,:3]\n",
    "    mesh = make_o3dmesh_from_node_tri_col(X.X,X.Tris,col)\n",
    "    o3d.io.write_triangle_mesh(filename=\"./3d/FAUST_four_7_13_69_36_Xs_{0}.ply\".format(idxs_input[i]),mesh=mesh)\n",
    "    \n",
    "for i in range(n_grid):\n",
    "    for j in range(n_grid):\n",
    "        tmp = bary_cs[i,j] / np.max(bary_cs[i,j])\n",
    "        col = cm.viridis(tmp)[:,:3]\n",
    "        mesh = make_o3dmesh_from_node_tri_col(bary_embs_3d[i,j],bary_tris[i,j],col)\n",
    "        o3d.io.write_triangle_mesh(filename=\"./3d/FAUST_four_7_13_69_36_B_{0}_{1}.ply\".format(i,j),mesh=mesh)\n",
    "print(\"Outputs saved!\")"
   ]
  }
 ],
 "metadata": {
  "kernelspec": {
   "display_name": "Python 3 (ipykernel)",
   "language": "python",
   "name": "python3"
  },
  "language_info": {
   "codemirror_mode": {
    "name": "ipython",
    "version": 3
   },
   "file_extension": ".py",
   "mimetype": "text/x-python",
   "name": "python",
   "nbconvert_exporter": "python",
   "pygments_lexer": "ipython3",
   "version": "3.8.8"
  }
 },
 "nbformat": 4,
 "nbformat_minor": 5
}
