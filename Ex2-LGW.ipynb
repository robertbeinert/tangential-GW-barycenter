{
 "cells": [
  {
   "cell_type": "code",
   "execution_count": null,
   "id": "205f278c",
   "metadata": {},
   "outputs": [],
   "source": [
    "import gwb as gwb\n",
    "from gwb import GM as gm\n",
    "\n",
    "import numpy as np\n",
    "import ot\n",
    "import os\n",
    "from PIL import Image\n",
    "import matplotlib.pyplot as plt\n",
    "from tqdm import trange"
   ]
  },
  {
   "cell_type": "code",
   "execution_count": null,
   "id": "c53adfca",
   "metadata": {},
   "outputs": [],
   "source": [
    "def img2atomic(img):\n",
    "    '''\n",
    "    Creates a discrete measure from an image.\n",
    "    '''\n",
    "    assert img.ndim == 2, \"img needs to be 2d array\"\n",
    "    x, y = img.shape\n",
    "    pts = np.stack([grid.flatten() for grid in np.meshgrid(np.arange(x), y-np.arange(y))], axis=1)\n",
    "    return pts[img.flatten() > 0], img.flatten()[img.flatten() > 0]"
   ]
  },
  {
   "cell_type": "code",
   "execution_count": null,
   "id": "e56f8ea6",
   "metadata": {},
   "outputs": [],
   "source": [
    "ims = []\n",
    "ims_fill = []\n",
    "i=0\n",
    "resize_pix = 10\n",
    "for filename in sorted(os.listdir(\"../data/2d_shapes/\")):\n",
    "    if filename.endswith(\".gif\"):\n",
    "        #print(filename)\n",
    "        image = Image.open('../data/2d_shapes/' + filename)\n",
    "        image = image.convert(\"L\")\n",
    "        tmp = np.array(image)\n",
    "        tmp[tmp < 0.01] = 0\n",
    "        image = Image.fromarray(tmp)\n",
    "        ims_fill.append(image)\n",
    "        image = image.resize((resize_pix,resize_pix))\n",
    "        #image = image.filter(ImageFilter.FIND_EDGES)\n",
    "\n",
    "        #plt.imshow(image)\n",
    "        tmp = np.array(image,dtype = float)\n",
    "        tmp[tmp!= 0] = 1\n",
    "        ims.append(tmp/np.max(tmp))\n",
    "        continue\n",
    "    else:\n",
    "        continue\n",
    "n = len(ims)"
   ]
  },
  {
   "cell_type": "code",
   "execution_count": null,
   "id": "70ddd9a7",
   "metadata": {},
   "outputs": [],
   "source": [
    "n_ims_per_class = 10\n",
    "classes = [0,8,12,50]\n",
    "n_classes = len(classes)\n",
    "N = n_classes * n_ims_per_class\n",
    "ims_pick = np.concatenate([ims[i*n_ims_per_class:(i+1)*n_ims_per_class] for i in classes],axis=0)"
   ]
  },
  {
   "cell_type": "code",
   "execution_count": null,
   "id": "4c4c4231",
   "metadata": {},
   "outputs": [],
   "source": [
    "Xs = []\n",
    "for i in range(N):\n",
    "    points,measure = img2atomic(ims_pick[i])\n",
    "    points = np.array(points,dtype=float)\n",
    "    measure /= np.sum(measure)\n",
    "    X = gm(mode=\"euclidean\",gauge_mode = \"euclidean\",X=points,xi=measure,normalize_gauge=True)\n",
    "    Xs.append(X)"
   ]
  },
  {
   "cell_type": "code",
   "execution_count": null,
   "id": "eb727357",
   "metadata": {
    "scrolled": true
   },
   "outputs": [],
   "source": [
    "pwGW = gwb.pairwise_GW(Xs)"
   ]
  },
  {
   "cell_type": "code",
   "execution_count": null,
   "id": "fe111379",
   "metadata": {},
   "outputs": [],
   "source": [
    "plt.imshow(pwGW)"
   ]
  },
  {
   "cell_type": "code",
   "execution_count": null,
   "id": "bcc51e25",
   "metadata": {},
   "outputs": [],
   "source": [
    "n_its_tb = 5\n",
    "i_init_tb = 0\n",
    "n = np.sum([X.len for X in Xs]) - N + 1\n",
    "n_sample = 500"
   ]
  },
  {
   "cell_type": "code",
   "execution_count": null,
   "id": "3c9db655",
   "metadata": {},
   "outputs": [],
   "source": [
    "#TB iterations and spectral clustering\n",
    "bary = Xs[i_init_tb]\n",
    "#bary = gwb.sample_GM(bary,n=n_sample)\n",
    "LGWs = []\n",
    "for i in trange(n_its_tb):\n",
    "    bary_prev = bary\n",
    "    bary,log = gwb.TB(bary_prev,Xs,ws = ot.unif(N),mode=\"avg_gauge_only\",log=True)\n",
    "    idxs, meas, Ps = log.values()\n",
    "    bary = gwb.sample_GM(bary,n=n_sample)\n",
    "    \n",
    "    #LGW   \n",
    "    LGWs.append(gwb.LGW_via_idxs(Xs,idxs,meas))\n",
    "print(\"TB iterations and clustering completed!\")"
   ]
  },
  {
   "cell_type": "code",
   "execution_count": null,
   "id": "dbdb62f6",
   "metadata": {},
   "outputs": [],
   "source": [
    "fig, ax = plt.subplots(1,n_its_tb,figsize=(10,10*n_its_tb))\n",
    "for i in range(n_its_tb):\n",
    "    ax[i].imshow(LGWs[i])\n",
    "plt.show()"
   ]
  },
  {
   "cell_type": "code",
   "execution_count": null,
   "id": "d84d9054",
   "metadata": {},
   "outputs": [],
   "source": [
    "for i in range(len(LGWs)):\n",
    "    print(np.corrcoef(pwGW.flatten(),LGWs[i].flatten())[1,0])"
   ]
  }
 ],
 "metadata": {
  "kernelspec": {
   "display_name": "Python 3 (ipykernel)",
   "language": "python",
   "name": "python3"
  },
  "language_info": {
   "codemirror_mode": {
    "name": "ipython",
    "version": 3
   },
   "file_extension": ".py",
   "mimetype": "text/x-python",
   "name": "python",
   "nbconvert_exporter": "python",
   "pygments_lexer": "ipython3",
   "version": "3.8.8"
  }
 },
 "nbformat": 4,
 "nbformat_minor": 5
}
