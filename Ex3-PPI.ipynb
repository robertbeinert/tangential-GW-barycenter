{
 "cells": [
  {
   "cell_type": "code",
   "execution_count": 1,
   "id": "4c2633e0",
   "metadata": {},
   "outputs": [],
   "source": [
    "import numpy as np\n",
    "import ot\n",
    "import pickle\n",
    "from tqdm import trange\n",
    "import matplotlib.pyplot as plt\n",
    "from scipy.sparse import csr_matrix\n",
    "\n",
    "import gwb as gwb\n",
    "from gwb import GM as gm"
   ]
  },
  {
   "cell_type": "code",
   "execution_count": 2,
   "id": "ba1268de",
   "metadata": {},
   "outputs": [],
   "source": [
    "# measures for node correctness\n",
    "def nca(idxs):\n",
    "    idxs = np.array(idxs,dtype=int)\n",
    "    nc = 0\n",
    "    for idx in idxs:\n",
    "        if np.all(idx[0] == idx):\n",
    "            nc += 1\n",
    "    return nc/len(idxs)\n",
    "\n",
    "def nc2(idxs):\n",
    "    nc2 = 0\n",
    "    for idx in idxs:\n",
    "        if len(set(idx)) < len(idx):\n",
    "            nc2 += 1\n",
    "    return nc2/len(idxs)"
   ]
  },
  {
   "cell_type": "markdown",
   "id": "18ffa8bb",
   "metadata": {},
   "source": [
    "# Load Data"
   ]
  },
  {
   "cell_type": "code",
   "execution_count": 3,
   "id": "c5782f94",
   "metadata": {},
   "outputs": [
    {
     "name": "stderr",
     "output_type": "stream",
     "text": [
      "/var/folders/z8/8hnbs6bj1_39m78l80dqh2gr0000gn/T/ipykernel_59357/2765384877.py:2: DeprecationWarning: Please use `csr_matrix` from the `scipy.sparse` namespace, the `scipy.sparse.csr` namespace is deprecated.\n",
      "  database = pickle.load(f)\n"
     ]
    }
   ],
   "source": [
    "with open('../s-gwl-master/data/PPI_syn_database.pkl', 'rb') as f:\n",
    "    database = pickle.load(f)"
   ]
  },
  {
   "cell_type": "code",
   "execution_count": 4,
   "id": "f903309e",
   "metadata": {},
   "outputs": [],
   "source": [
    "costs, probs, idx2nodes = database[\"costs\"], database[\"probs\"], database[\"idx2nodes\"]\n",
    "costs = np.array([c.todense() for c in costs])\n",
    "N = len(costs)"
   ]
  },
  {
   "cell_type": "markdown",
   "id": "4ae3ad33",
   "metadata": {},
   "source": [
    "# Construct GM Spaces"
   ]
  },
  {
   "cell_type": "code",
   "execution_count": 5,
   "id": "6e5d60c7",
   "metadata": {},
   "outputs": [
    {
     "name": "stdout",
     "output_type": "stream",
     "text": [
      "GM spaces generated!\n"
     ]
    }
   ],
   "source": [
    "#create gm-spaces\n",
    "Xs = []\n",
    "for i in range(N):\n",
    "    Xs.append(gm(mode=\"gauge_only\",g = 1/2*(costs[i] + costs[i].T),xi = probs[i].reshape(-1,)))\n",
    "print(\"GM spaces generated!\")"
   ]
  },
  {
   "cell_type": "markdown",
   "id": "f2e5f148",
   "metadata": {},
   "source": [
    "# Tangential Barycenter Iterations"
   ]
  },
  {
   "cell_type": "code",
   "execution_count": 10,
   "id": "3ddeb451",
   "metadata": {},
   "outputs": [
    {
     "name": "stdout",
     "output_type": "stream",
     "text": [
      "-------------------\n",
      "Number of graphs: 3\n",
      "-------------------\n"
     ]
    },
    {
     "name": "stderr",
     "output_type": "stream",
     "text": [
      " 50%|█████████████████████▌                     | 5/10 [11:44<11:44, 140.84s/it]\n"
     ]
    },
    {
     "name": "stdout",
     "output_type": "stream",
     "text": [
      "GWB Loss has increased at iteration 5.\n",
      "Stopping TB iterations.\n",
      "Final GWB Loss: 0.0014367286420870966\n",
      "NCA: 0.6992031872509961\n",
      "NC2: 0.9332669322709163\n",
      "-------------------\n",
      "Number of graphs: 4\n",
      "-------------------\n"
     ]
    },
    {
     "name": "stderr",
     "output_type": "stream",
     "text": [
      " 30%|████████████▉                              | 3/10 [10:25<24:18, 208.35s/it]\n"
     ]
    },
    {
     "name": "stdout",
     "output_type": "stream",
     "text": [
      "GWB Loss has increased at iteration 3.\n",
      "Stopping TB iterations.\n",
      "Final GWB Loss: 0.001988952422281846\n",
      "NCA: 0.6135458167330677\n",
      "NC2: 0.9681274900398407\n",
      "-------------------\n",
      "Number of graphs: 5\n",
      "-------------------\n"
     ]
    },
    {
     "name": "stderr",
     "output_type": "stream",
     "text": [
      " 30%|████████████▉                              | 3/10 [13:08<30:40, 262.99s/it]\n"
     ]
    },
    {
     "name": "stdout",
     "output_type": "stream",
     "text": [
      "GWB Loss has increased at iteration 3.\n",
      "Stopping TB iterations.\n",
      "Final GWB Loss: 0.002480494435587417\n",
      "NCA: 0.5209163346613546\n",
      "NC2: 0.9721115537848606\n",
      "-------------------\n",
      "Number of graphs: 6\n",
      "-------------------\n"
     ]
    },
    {
     "name": "stderr",
     "output_type": "stream",
     "text": [
      " 20%|████████▌                                  | 2/10 [11:46<47:04, 353.10s/it]"
     ]
    },
    {
     "name": "stdout",
     "output_type": "stream",
     "text": [
      "GWB Loss has increased at iteration 2.\n",
      "Stopping TB iterations.\n",
      "Final GWB Loss: 0.002945820456937205\n",
      "NCA: 0.4551792828685259\n",
      "NC2: 0.9890438247011952\n"
     ]
    },
    {
     "name": "stderr",
     "output_type": "stream",
     "text": [
      "\n"
     ]
    }
   ],
   "source": [
    "n_its_tb = 10\n",
    "method = \"prox\"\n",
    "cr = \"MCR\"\n",
    "\n",
    "for n in range(3,N+1):\n",
    "    print(\"-------------------\")\n",
    "    print(\"Number of graphs: {0}\".format(n))\n",
    "    print(\"-------------------\")\n",
    "    bary = 0\n",
    "    init_Ps = None\n",
    "    gwbl_prevs = []\n",
    "    ncas = []\n",
    "    nc2s = []\n",
    "    for it in trange(n_its_tb):\n",
    "        bary_prev = bary\n",
    "        idxs, meas, Ps, ref_idx = gwb.tb(bary_prev,Xs[:n],method=method,cr=cr)\n",
    "        bary = gwb.bary_from_tb(Xs[:n],idxs,meas)\n",
    "        nodes = np.array([[idx2nodes[i][j] for j in idxs[:,i]] for i in range(n)],dtype=int).T  \n",
    "\n",
    "        gwbl_prev = gwb.gwb_loss(bary_prev,Xs[:n],Ps)\n",
    "        if it >= 1 and gwbl_prev > gwbl_prevs[-1]:\n",
    "            print(\"GWB Loss has increased at iteration {0}.\".format(it))\n",
    "            print(\"Stopping TB iterations.\")\n",
    "            print(\"Final GWB Loss: {0}\".format(gwbl_prevs[-1]))\n",
    "            print(\"NCA: {0}\".format(ncas[-1]))\n",
    "            print(\"NC2: {0}\".format(nc2s[-1]))\n",
    "            break\n",
    "        else:\n",
    "            gwbl_prevs.append(gwbl_prev)\n",
    "            ncas.append(nca(nodes))\n",
    "            nc2s.append(nc2(nodes))"
   ]
  }
 ],
 "metadata": {
  "kernelspec": {
   "display_name": "Python 3 (ipykernel)",
   "language": "python",
   "name": "python3"
  },
  "language_info": {
   "codemirror_mode": {
    "name": "ipython",
    "version": 3
   },
   "file_extension": ".py",
   "mimetype": "text/x-python",
   "name": "python",
   "nbconvert_exporter": "python",
   "pygments_lexer": "ipython3",
   "version": "3.8.8"
  }
 },
 "nbformat": 4,
 "nbformat_minor": 5
}
